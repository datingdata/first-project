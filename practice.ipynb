{
 "cells": [
  {
   "cell_type": "code",
   "execution_count": 54,
   "id": "39296af1",
   "metadata": {},
   "outputs": [],
   "source": [
    "#Write a program that takes a string as input and counts the number of vowels (a, e, i, o, u) in the given string.\n",
    "\n",
    "def count_vowels(word):\n",
    "    count = 0\n",
    "    for letter in word:\n",
    "        if letter=='a' or letter=='e' or letter=='i' or letter=='o' or letter=='u':\n",
    "            count+=1\n",
    "        else:\n",
    "            pass\n",
    "    print('Total number of vowels in \"',word ,'\" is: ', count)\n",
    "    return(count)"
   ]
  },
  {
   "cell_type": "code",
   "execution_count": 6,
   "id": "97f6c7d8",
   "metadata": {},
   "outputs": [
    {
     "name": "stdout",
     "output_type": "stream",
     "text": [
      "enter any word/sentence: My name is shweta\n",
      "Total number of vowels in \" My name is shweta \" is:  5\n",
      "5\n"
     ]
    }
   ],
   "source": [
    "word = str(input('enter any word/sentence: '))\n",
    "print(count_vowels(word))"
   ]
  },
  {
   "cell_type": "code",
   "execution_count": 7,
   "id": "55b19071",
   "metadata": {},
   "outputs": [
    {
     "name": "stdout",
     "output_type": "stream",
     "text": [
      "The sum of all numbers divisible by 3 or 5 below 100 is:  2318\n"
     ]
    }
   ],
   "source": [
    "#Write a program that calculates and displays the sum of all the multiples of 3 and 5 below 100.\n",
    "\n",
    "num = range(100)\n",
    "sum = 0\n",
    "for i in num:\n",
    "    if i%3==0 or i%5==0:\n",
    "        sum+=i\n",
    "    else:\n",
    "        pass\n",
    "print('The sum of all numbers divisible by 3 or 5 below 100 is: ',sum)    "
   ]
  },
  {
   "cell_type": "code",
   "execution_count": 16,
   "id": "435242c6",
   "metadata": {},
   "outputs": [
    {
     "name": "stdout",
     "output_type": "stream",
     "text": [
      "Enter any number: 23\n",
      "Factors of the given number are:  [1, 23]\n",
      "The given number is a Prime number\n"
     ]
    }
   ],
   "source": [
    "'''Write a program that checks if a given number is prime or not.\n",
    "A prime number is a number greater than 1 that is divisible by 1 and itself only.'''\n",
    "\n",
    "number = int(input('Enter any number: '))\n",
    "factors=[]\n",
    "for i in range(1,number+1):\n",
    "    if number%i==0:\n",
    "        factors.append(i)\n",
    "print('Factors of the given number are: ',factors)\n",
    "if len(factors)==2:\n",
    "    print('The given number is a Prime number')\n",
    "else:\n",
    "    print(\"The given number is not a Prime number\")\n",
    "    \n",
    "    "
   ]
  },
  {
   "cell_type": "code",
   "execution_count": 31,
   "id": "30e2b6ea",
   "metadata": {},
   "outputs": [
    {
     "name": "stdout",
     "output_type": "stream",
     "text": [
      "enter numbers for calculating mean\n",
      "Enter the number: 44\n",
      "Enter the number: 12\n",
      "Enter the number: 44\n",
      "Enter the number: 74\n",
      "Enter the number: 88\n",
      "list is:  [44, 12, 44, 74, 88]\n",
      "The mean of the given list is:  52.4\n"
     ]
    }
   ],
   "source": [
    "#Write a program that takes a list of numbers as input and calculates the average (mean) of those numbers.\n",
    "\n",
    "\n",
    "lst = []\n",
    "sum = 0\n",
    "print('enter numbers for calculating mean')\n",
    "while True:\n",
    "    num = int(input('Enter the number: '))\n",
    "    lst.append(num)\n",
    "    if len(lst)>=5:\n",
    "        break\n",
    "print('list is: ',lst)\n",
    "for i in lst:\n",
    "    sum+=i\n",
    "mean = sum/len(lst)\n",
    "print('The mean of the given list is: ',mean)\n",
    "    \n",
    "    "
   ]
  },
  {
   "cell_type": "code",
   "execution_count": 45,
   "id": "59127f0c",
   "metadata": {},
   "outputs": [
    {
     "name": "stdout",
     "output_type": "stream",
     "text": [
      "Enter upto what number you want a fibonacci sequence: 9\n",
      "The fibonacci sequence upto  9 will be as follows:  [0, 1, 1, 2, 3, 5, 8]\n"
     ]
    }
   ],
   "source": [
    "\"\"\"\n",
    "Write a program that generates and prints the Fibonacci sequence up to a given number \"n\". \n",
    "The Fibonacci sequence is a series of numbers where each number is the sum of the two preceding ones.\n",
    "\"\"\"\n",
    "\n",
    "def fibonacci_sequence(n):\n",
    "    sequence=[0,1]\n",
    "    while sequence[-1]<n:\n",
    "        next_num = sequence[-1]+sequence[-2]\n",
    "        if next_num<=n:\n",
    "            sequence.append(next_num)\n",
    "        else:\n",
    "            break\n",
    "    return(sequence)\n",
    "    \n",
    "num = int(input('Enter upto what number you want a fibonacci sequence: '))\n",
    "print('The fibonacci sequence upto ',num,'will be as follows: ' , fibonacci_sequence(num))"
   ]
  },
  {
   "cell_type": "code",
   "execution_count": 53,
   "id": "657c2032",
   "metadata": {},
   "outputs": [
    {
     "name": "stdout",
     "output_type": "stream",
     "text": [
      "Enter any sentence: my name is shweta\n",
      "My Name Is Shweta\n"
     ]
    }
   ],
   "source": [
    "#Write a program that takes a sentence as input and capitalizes the first letter of each word in the sentence.\n",
    "\n",
    "sentence = str(input('Enter any sentence: '))\n",
    "new_sentence = sentence.title()  \n",
    "print(new_sentence)"
   ]
  },
  {
   "cell_type": "code",
   "execution_count": null,
   "id": "da68b00b",
   "metadata": {},
   "outputs": [],
   "source": []
  }
 ],
 "metadata": {
  "kernelspec": {
   "display_name": "Python 3 (ipykernel)",
   "language": "python",
   "name": "python3"
  },
  "language_info": {
   "codemirror_mode": {
    "name": "ipython",
    "version": 3
   },
   "file_extension": ".py",
   "mimetype": "text/x-python",
   "name": "python",
   "nbconvert_exporter": "python",
   "pygments_lexer": "ipython3",
   "version": "3.10.9"
  }
 },
 "nbformat": 4,
 "nbformat_minor": 5
}
